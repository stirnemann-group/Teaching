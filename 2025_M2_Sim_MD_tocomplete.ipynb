{
  "nbformat": 4,
  "nbformat_minor": 0,
  "metadata": {
    "colab": {
      "provenance": [],
      "authorship_tag": "ABX9TyMVoaXgrQ2Q4Yrn9PDPyz99",
      "include_colab_link": true
    },
    "kernelspec": {
      "name": "python3",
      "display_name": "Python 3"
    },
    "language_info": {
      "name": "python"
    }
  },
  "cells": [
    {
      "cell_type": "markdown",
      "metadata": {
        "id": "view-in-github",
        "colab_type": "text"
      },
      "source": [
        "<a href=\"https://colab.research.google.com/github/stirnemann-group/Teaching/blob/main/2025_M2_Sim_MD_tocomplete.ipynb\" target=\"_parent\"><img src=\"https://colab.research.google.com/assets/colab-badge.svg\" alt=\"Open In Colab\"/></a>"
      ]
    },
    {
      "cell_type": "markdown",
      "source": [
        "# MD simulations of a harmonic oscillator\n",
        "\n",
        "In this exercise, we will run basic MD simulations on a harmonic potentials and check whether the simulated trajectories follow the expectations of the analytical solutions."
      ],
      "metadata": {
        "id": "sm0XmmRJP3XV"
      }
    },
    {
      "cell_type": "code",
      "execution_count": null,
      "metadata": {
        "colab": {
          "base_uri": "https://localhost:8080/"
        },
        "id": "aqkIngyYPB3s",
        "outputId": "aa61d221-c610-4fe1-c971-fb59ddc4cbd6"
      },
      "outputs": [
        {
          "output_type": "stream",
          "name": "stdout",
          "text": [
            "Requirement already satisfied: numpy in /usr/local/lib/python3.12/dist-packages (2.0.2)\n",
            "Populating the interactive namespace from numpy and matplotlib\n"
          ]
        }
      ],
      "source": [
        "#Install necessary packages\n",
        "! pip install numpy\n",
        "#setup the notebook\n",
        "%pylab inline\n",
        "import numpy as np"
      ]
    },
    {
      "cell_type": "markdown",
      "source": [
        "## 1. Harmonic potential"
      ],
      "metadata": {
        "id": "S2bdD81KRAF4"
      }
    },
    {
      "cell_type": "markdown",
      "source": [
        "(a) What do the functions below define? Complete them."
      ],
      "metadata": {
        "id": "dvk4u_2BTiyh"
      }
    },
    {
      "cell_type": "code",
      "source": [
        "def harmonic_oscillator_energy_force(x,k=1,x0=0):\n",
        "    energy =\n",
        "    force =\n",
        "    return energy, force\n",
        "\n",
        "#this function will plot the energy and force\n",
        "#it is very general since it uses a special python trick of taking arbitrary named arguments (**kwargs)\n",
        "#and passes them on to a specified input function\n",
        "def plot_energy_force(function, xmin=,xmax=,spacing=0.1,**kwargs):\n",
        "    x_points = np.arange(xmin,xmax+spacing,spacing)\n",
        "    energies, forces = function(x_points,**kwargs)\n",
        "    labelu = 'U(x)'\n",
        "    labelf='F(x)'\n",
        "    for arg in kwargs:\n",
        "        labelu=labelu+', %s=%s'%(arg,str(kwargs[arg]))\n",
        "        labelf=labelf+', %s=%s'%(arg,str(kwargs[arg]))\n",
        "    p = plt.plot(x_points,energies,label=labelu)\n",
        "    plt.plot(x_points,forces,label=labelf,color=p[0].get_color(),linestyle='--')\n",
        "    plt.legend(loc=0)\n"
      ],
      "metadata": {
        "id": "3KyqjcknPZyt"
      },
      "execution_count": null,
      "outputs": []
    },
    {
      "cell_type": "markdown",
      "source": [
        "(b) Play around by changling the values of the potential positions and strength, and pot the obtained results. Is this consistent with your expectations?"
      ],
      "metadata": {
        "id": "zlFpfEUkTx3S"
      }
    },
    {
      "cell_type": "code",
      "source": [],
      "metadata": {
        "id": "GqUrhD6xEG0D"
      },
      "execution_count": null,
      "outputs": []
    },
    {
      "cell_type": "markdown",
      "source": [
        "(c) We will now code the exact solutions for the positions and velocity as a function of time for a particle of initial energy E. Complete the function below so that it returns the particle position and velocity as a function of time. You will assume that $x$ starts from 1 at $t=0$, with a frequency equal to 1 and a phase equal to 0.\n"
      ],
      "metadata": {
        "id": "FJuNwnxsUUfy"
      }
    },
    {
      "cell_type": "code",
      "source": [
        "def harmonic_oscillator_position_velocity(t, A=1, omega=1, phi=0):\n",
        "    position =\n",
        "    velocity =\n",
        "\n",
        "    return position, velocity\n",
        "\n",
        "#this function will plot the energy and force for a harmonic oscilator\n",
        "def plot_harmonic_oscillator(t_max=10,dt=0.1,**kwargs):\n",
        "    t_points = np.arange(0,t_max+dt,dt)\n",
        "    position, velocity =\n",
        "    labelx = 'x(t)'\n",
        "    labelv = 'v(t)'\n",
        "    for arg in kwargs:\n",
        "        labelx=labelx+', %s=%s'%(arg,str(kwargs[arg]))\n",
        "        labelv=labelv+', %s=%s'%(arg,str(kwargs[arg]))\n",
        "\n",
        "    p =\n"
      ],
      "metadata": {
        "id": "WLEr9a81R01j"
      },
      "execution_count": null,
      "outputs": []
    },
    {
      "cell_type": "markdown",
      "source": [
        "(d) Check that this behaves as expected."
      ],
      "metadata": {
        "id": "dtkbCdMBVr_e"
      }
    },
    {
      "cell_type": "code",
      "source": [],
      "metadata": {
        "id": "hlR4L3AmUS-s"
      },
      "execution_count": null,
      "outputs": []
    },
    {
      "cell_type": "markdown",
      "source": [
        "(e) Try changing the amplitude and frequency of the oscillator and see how it affects the solutions."
      ],
      "metadata": {
        "id": "MuWFPDvXWIQx"
      }
    },
    {
      "cell_type": "code",
      "source": [],
      "metadata": {
        "id": "gmAOLU1AVzfF"
      },
      "execution_count": null,
      "outputs": []
    },
    {
      "cell_type": "markdown",
      "source": [
        "(f) We will now perform MD simulations, first using a velocity Verlet algorithm. Complete the corresponding cell to (i) code the algorithm and (ii) propagate the equations of motion during $dt$ (in the following you will considered a mass equal to 1)."
      ],
      "metadata": {
        "id": "dpiC7rkCWPEJ"
      }
    },
    {
      "cell_type": "code",
      "source": [
        "def position_update(x,v,F,dt):\n",
        "    x_new =\n",
        "    return x_new\n",
        "\n",
        "def velocity_update(v,F_new,F_old,dt):\n",
        "    v_new =\n",
        "    return v_new\n",
        "\n",
        "#this function will take the initial energy as an input and run velocity verlet dynamics\n",
        "def velocity_verlet_harmonic_oscillator(potential, max_time, dt, initial_position, initial_velocity,\n",
        "                                        save_frequency=3, **kwargs ):\n",
        "    x = initial_position\n",
        "    v = initial_velocity\n",
        "    t = 0\n",
        "    step_number = 0\n",
        "    positions = []\n",
        "    velocities = []\n",
        "    total_energies = []\n",
        "    save_times = []\n",
        "\n",
        "    while(t<max_time):\n",
        "        potential_energy, force = potential(x,**kwargs)\n",
        "        if step_number%save_frequency == 0:\n",
        "            e_total =\n",
        "\n",
        "            positions.append(x)\n",
        "            velocities.append(v)\n",
        "            total_energies.append(e_total)\n",
        "            save_times.append(t)\n",
        "\n",
        "        # propagate the equations of motion\n",
        "\n",
        "\n",
        "        t = t+dt\n",
        "        step_number = step_number + 1\n",
        "\n",
        "    return save_times, positions, velocities, total_energies"
      ],
      "metadata": {
        "id": "dkMp8kxLWTkd"
      },
      "execution_count": null,
      "outputs": []
    },
    {
      "cell_type": "markdown",
      "source": [
        "(g)  Run the suggested simulation (keeping the input parameters as they are right now) and compare to the exact analytical solutions. Does this behave as expected?\n"
      ],
      "metadata": {
        "id": "zfA2ZnFIXrMi"
      }
    },
    {
      "cell_type": "code",
      "source": [
        "initial_energy = 2\n",
        "my_k = 3\n",
        "\n",
        "my_max_time = 10\n",
        "\n",
        "#set the initial conditions. this is easiest if you set x=x_max and v=0 based on the input energy E.\n",
        "# Otherwise you will have to include a phase factor to show that you got the exact solution\n",
        "\n",
        "initial_position = np.sqrt(2*initial_energy/my_k)\n",
        "initial_velocity = 0\n",
        "\n",
        "#let's set a good timestep based on dt = tau/100 where tau=2 pi/ omega\n",
        "my_omega = np.sqrt(my_k)\n",
        "tau = 2*np.pi/my_omega\n",
        "my_dt = tau/100.\n",
        "\n",
        "times, positions, velocities, total_energies = velocity_verlet_harmonic_oscillator(harmonic_oscillator_energy_force,\n",
        "                                                                            my_max_time, my_dt, \\\n",
        "                                                                            initial_position, initial_velocity,\\\n",
        "                                                                             k=my_k)\n",
        "\n",
        "# What is the A value prefactor for the harmonic oscillator? See equations above\n",
        "my_A =\n",
        "\n",
        "plt.plot(times,positions,marker='o',label='sim. position',linestyle='')\n",
        "plt.plot(times,velocities,marker='s',label='sim. velocity',linestyle='')\n",
        "plot_harmonic_oscillator(???)\n",
        "\n",
        "xlabel('time')\n",
        "legend(loc='upper center')\n",
        "\n",
        "plt.figure()\n",
        "plt.plot(times,total_energies,marker='o',linestyle='',label='Simulated E')\n",
        "plt.axhline(initial_energy,color='black',label='Exact')\n",
        "plt.ylim(0.95*initial_energy,1.05*initial_energy)\n",
        "xlabel('time')\n",
        "ylabel(\"Total Energy\")\n",
        "legend()"
      ],
      "metadata": {
        "id": "HOTbxNa4Xh7q"
      },
      "execution_count": null,
      "outputs": []
    },
    {
      "cell_type": "markdown",
      "source": [
        "(h) Increase the simulation time step gradually from tau/100 up to tau and see what happens."
      ],
      "metadata": {
        "id": "Dd2jG-eua8r4"
      }
    },
    {
      "cell_type": "code",
      "source": [],
      "metadata": {
        "id": "434adMpta9aD"
      },
      "execution_count": null,
      "outputs": []
    },
    {
      "cell_type": "markdown",
      "source": [
        "(i) Plot the probability density of positions and velocities and compare to your expectations."
      ],
      "metadata": {
        "id": "gOMMRh29cmLs"
      }
    },
    {
      "cell_type": "code",
      "source": [
        "def bin_centers(bin_edges):\n",
        "    return (bin_edges[1:]+bin_edges[:-1])/2.\n",
        "\n",
        "#to get a good histogram, we need to run a lot longer than before\n",
        "my_max_time =\n",
        "\n",
        "times, positions, velocities, total_energies = velocity_verlet_harmonic_oscillator(harmonic_oscillator_energy_force,\n",
        "                                                                            my_max_time, my_dt, \\\n",
        "                                                                            initial_position, initial_velocity,\\\n",
        "                                                                             k=my_k)\n",
        "\n",
        "\n",
        "dist_hist, dist_bin_edges = np.histogram(positions,bins=20,density=True)\n",
        "\n",
        "\n",
        "plot(bin_centers(dist_bin_edges), dist_hist,marker='o',label='P(x)')\n",
        "plot(bin_centers(vel_bin_edges), vel_hist,marker='s',label='P(v)')\n",
        "legend(loc='upper center')"
      ],
      "metadata": {
        "id": "9nsS2GmSbC_a"
      },
      "execution_count": null,
      "outputs": []
    },
    {
      "cell_type": "code",
      "source": [],
      "metadata": {
        "id": "xRh88XrLc_G0"
      },
      "execution_count": null,
      "outputs": []
    }
  ]
}